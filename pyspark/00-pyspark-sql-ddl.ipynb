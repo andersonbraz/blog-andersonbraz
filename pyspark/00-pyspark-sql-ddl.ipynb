{
 "cells": [
  {
   "cell_type": "markdown",
   "metadata": {},
   "source": [
    "# Usando o Pyspark SQL"
   ]
  },
  {
   "cell_type": "markdown",
   "metadata": {},
   "source": [
    "## Importar bilbiotecas necessárias"
   ]
  },
  {
   "cell_type": "code",
   "execution_count": 1,
   "metadata": {},
   "outputs": [
    {
     "data": {
      "text/html": [
       "<style>.container { width:100% !important; }</style>"
      ],
      "text/plain": [
       "<IPython.core.display.HTML object>"
      ]
     },
     "metadata": {},
     "output_type": "display_data"
    }
   ],
   "source": [
    "from IPython.display import display, HTML\n",
    "display(HTML(\"<style>.container { width:100% !important; }</style>\"))\n",
    "\n",
    "from pyspark.sql import SparkSession\n",
    "import pyspark.sql.functions as F"
   ]
  },
  {
   "cell_type": "markdown",
   "metadata": {},
   "source": [
    "## Iniciar sessão PySpark"
   ]
  },
  {
   "cell_type": "code",
   "execution_count": 2,
   "metadata": {},
   "outputs": [
    {
     "name": "stderr",
     "output_type": "stream",
     "text": [
      "WARNING: An illegal reflective access operation has occurred\n",
      "WARNING: Illegal reflective access by org.apache.spark.unsafe.Platform (file:/Users/andersonbraz/Apps/spark-server/spark-3.1.3-bin-hadoop3.2/jars/spark-unsafe_2.12-3.1.3.jar) to constructor java.nio.DirectByteBuffer(long,int)\n",
      "WARNING: Please consider reporting this to the maintainers of org.apache.spark.unsafe.Platform\n",
      "WARNING: Use --illegal-access=warn to enable warnings of further illegal reflective access operations\n",
      "WARNING: All illegal access operations will be denied in a future release\n",
      "24/01/31 22:08:56 WARN NativeCodeLoader: Unable to load native-hadoop library for your platform... using builtin-java classes where applicable\n",
      "Using Spark's default log4j profile: org/apache/spark/log4j-defaults.properties\n",
      "Setting default log level to \"WARN\".\n",
      "To adjust logging level use sc.setLogLevel(newLevel). For SparkR, use setLogLevel(newLevel).\n"
     ]
    }
   ],
   "source": [
    "spark = SparkSession.builder.getOrCreate()"
   ]
  },
  {
   "cell_type": "markdown",
   "metadata": {},
   "source": [
    "## Ler arquivo CSV (base de dados)"
   ]
  },
  {
   "cell_type": "code",
   "execution_count": 3,
   "metadata": {},
   "outputs": [
    {
     "name": "stderr",
     "output_type": "stream",
     "text": [
      "                                                                                \r"
     ]
    },
    {
     "name": "stdout",
     "output_type": "stream",
     "text": [
      "+-------------------+--------+---------+-------------+----------+----------------+-------------+-------------+-------------+----------------+------------+---------+\n",
      "|OrderID            |Quantity|UnitPrice|Status       |OrderDate |Product_Category|Sales_Manager|Shipping_Cost|Delivery_Time|Shipping_Address|Product_Code|OrderCode|\n",
      "+-------------------+--------+---------+-------------+----------+----------------+-------------+-------------+-------------+----------------+------------+---------+\n",
      "|2951110000999929511|92      |238      |Not Delivered|2021-08-08|Healthcare      |Pablo        |21           |25           |Singapore       |HC-188      |444116   |\n",
      "|2181910000999921819|61      |136      |Not Delivered|2021-10-03|Office          |Pablo        |34           |14           |UK              |O-555       |444772   |\n",
      "|3239110000999932391|67      |235      |Not Delivered|2021-09-27|Office          |Kristen      |25           |11           |Kenya           |O-188       |444666   |\n",
      "|1112610000999911126|33      |133      |Not Shipped  |2021-07-30|Fashion         |Abdul        |34           |24           |USA             |F-555       |444007   |\n",
      "|1548310000999915483|13      |189      |Not Delivered|2021-08-15|Fashion         |Stella       |24           |19           |Kenya           |F-555       |444223   |\n",
      "+-------------------+--------+---------+-------------+----------+----------------+-------------+-------------+-------------+----------------+------------+---------+\n",
      "only showing top 5 rows\n",
      "\n"
     ]
    }
   ],
   "source": [
    "df = spark.read.csv('../data/sales.csv', header=True, sep=',')\n",
    "\n",
    "# Transformações de Dados\n",
    "\n",
    "df = df\\\n",
    ".withColumnRenamed(\"UnitPrice(USD)\", \"UnitPrice\")\\\n",
    ".withColumnRenamed(\"Shipping_Cost(USD)\", \"Shipping_Cost\")\\\n",
    ".withColumnRenamed(\"Delivery_Time(Days)\", \"Delivery_Time\")\n",
    "\n",
    "df = df\\\n",
    ".withColumn(\"OrderDate\", F.col(\"OrderDate\").cast(\"date\"))\\\n",
    ".withColumn(\"Delivery_Time\", F.col(\"Delivery_Time\").cast(\"integer\"))\n",
    "\n",
    "df.show(truncate=False, n=5)"
   ]
  },
  {
   "cell_type": "markdown",
   "metadata": {},
   "source": [
    "## Criar tabela física"
   ]
  },
  {
   "cell_type": "code",
   "execution_count": 4,
   "metadata": {},
   "outputs": [
    {
     "data": {
      "text/plain": [
       "DataFrame[]"
      ]
     },
     "execution_count": 4,
     "metadata": {},
     "output_type": "execute_result"
    }
   ],
   "source": [
    "sql_ddl = \"DROP TABLE IF EXISTS sales PURGE;\"\n",
    "spark.sql(sql_ddl)"
   ]
  },
  {
   "cell_type": "code",
   "execution_count": 5,
   "metadata": {},
   "outputs": [
    {
     "name": "stderr",
     "output_type": "stream",
     "text": [
      "[Stage 2:>                                                          (0 + 1) / 1]\r"
     ]
    },
    {
     "name": "stdout",
     "output_type": "stream",
     "text": [
      "root\n",
      " |-- OrderID: string (nullable = true)\n",
      " |-- Quantity: string (nullable = true)\n",
      " |-- UnitPrice: string (nullable = true)\n",
      " |-- Status: string (nullable = true)\n",
      " |-- OrderDate: date (nullable = true)\n",
      " |-- Product_Category: string (nullable = true)\n",
      " |-- Sales_Manager: string (nullable = true)\n",
      " |-- Shipping_Cost: string (nullable = true)\n",
      " |-- Delivery_Time: integer (nullable = true)\n",
      " |-- Shipping_Address: string (nullable = true)\n",
      " |-- Product_Code: string (nullable = true)\n",
      " |-- OrderCode: string (nullable = true)\n",
      "\n"
     ]
    },
    {
     "name": "stderr",
     "output_type": "stream",
     "text": [
      "                                                                                \r"
     ]
    }
   ],
   "source": [
    "df.write.format(\"parquet\").mode(\"overwrite\").saveAsTable(\"sales\")\n",
    "df.printSchema()"
   ]
  },
  {
   "cell_type": "markdown",
   "metadata": {},
   "source": [
    "## Verificar existência da tabela"
   ]
  },
  {
   "cell_type": "code",
   "execution_count": 6,
   "metadata": {},
   "outputs": [
    {
     "name": "stdout",
     "output_type": "stream",
     "text": [
      "+--------+---------+-----------+\n",
      "|database|tableName|isTemporary|\n",
      "+--------+---------+-----------+\n",
      "|default |sales    |false      |\n",
      "+--------+---------+-----------+\n",
      "\n"
     ]
    }
   ],
   "source": [
    "df_tables = spark.sql(\"show tables\")\n",
    "df_tables.show(truncate=False)"
   ]
  }
 ],
 "metadata": {
  "kernelspec": {
   "display_name": ".venv",
   "language": "python",
   "name": "python3"
  },
  "language_info": {
   "codemirror_mode": {
    "name": "ipython",
    "version": 3
   },
   "file_extension": ".py",
   "mimetype": "text/x-python",
   "name": "python",
   "nbconvert_exporter": "python",
   "pygments_lexer": "ipython3",
   "version": "3.8.12"
  }
 },
 "nbformat": 4,
 "nbformat_minor": 2
}
